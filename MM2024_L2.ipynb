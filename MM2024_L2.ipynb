{
  "nbformat": 4,
  "nbformat_minor": 0,
  "metadata": {
    "colab": {
      "provenance": [],
      "include_colab_link": true
    },
    "kernelspec": {
      "name": "python3",
      "display_name": "Python 3"
    },
    "language_info": {
      "name": "python"
    }
  },
  "cells": [
    {
      "cell_type": "markdown",
      "metadata": {
        "id": "view-in-github",
        "colab_type": "text"
      },
      "source": [
        "<a href=\"https://colab.research.google.com/github/andracristiana/acumVinePapa/blob/master/MM2024_L2.ipynb\" target=\"_parent\"><img src=\"https://colab.research.google.com/assets/colab-badge.svg\" alt=\"Open In Colab\"/></a>"
      ]
    },
    {
      "cell_type": "markdown",
      "source": [
        "## Lecture 2 ##\n",
        "\n",
        "Linear regression"
      ],
      "metadata": {
        "id": "P-2rFfyJhKO0"
      }
    },
    {
      "cell_type": "markdown",
      "source": [
        "**Importing a file as a dataframe**"
      ],
      "metadata": {
        "id": "H_uIHbWgYid-"
      }
    },
    {
      "cell_type": "markdown",
      "source": [
        "To access data files in google drive from colab, you must first \"mount\" the drive."
      ],
      "metadata": {
        "id": "g2DnaDfMoOtt"
      }
    },
    {
      "cell_type": "code",
      "source": [
        "from google.colab import drive\n",
        "drive.mount('/content/drive')"
      ],
      "metadata": {
        "colab": {
          "base_uri": "https://localhost:8080/"
        },
        "id": "YX3iqq7jTQL0",
        "outputId": "7cd1b6bd-049f-45c2-c09e-705bb189df28"
      },
      "execution_count": null,
      "outputs": [
        {
          "output_type": "stream",
          "name": "stdout",
          "text": [
            "Mounted at /content/drive\n"
          ]
        }
      ]
    },
    {
      "cell_type": "code",
      "source": [
        "import pandas as pd\n",
        "\n",
        "# Path to the text file in Google Drive\n",
        "file_path = '/content/drive/My Drive/MathModelling/Age_Distance.txt'\n",
        "\n",
        "# Read the text file into a Pandas DataFrame\n",
        "mydataframe = pd.read_csv(file_path, delimiter='\\t')  # Adjust delimiter based on your file format\n"
      ],
      "metadata": {
        "id": "eE8IsqD0Yix2"
      },
      "execution_count": null,
      "outputs": []
    },
    {
      "cell_type": "markdown",
      "source": [
        "**Plotting the columns against each other**"
      ],
      "metadata": {
        "id": "FuBNd-fwhGo9"
      }
    },
    {
      "cell_type": "code",
      "source": [
        "import matplotlib.pyplot as plt\n",
        "plt.plot(mydataframe.iloc[:,0], mydataframe.iloc[:,1],marker='o', linestyle=\"\", color = 'red')\n",
        "plt.xlabel('Xdata')\n",
        "plt.ylabel('Ydata')"
      ],
      "metadata": {
        "colab": {
          "base_uri": "https://localhost:8080/",
          "height": 467
        },
        "id": "PX8RbjjPhGAh",
        "outputId": "475b1921-c6ce-4d01-f04d-07eb5a18d541"
      },
      "execution_count": null,
      "outputs": [
        {
          "output_type": "execute_result",
          "data": {
            "text/plain": [
              "Text(0, 0.5, 'Ydata')"
            ]
          },
          "metadata": {},
          "execution_count": 4
        },
        {
          "output_type": "display_data",
          "data": {
            "text/plain": [
              "<Figure size 640x480 with 1 Axes>"
            ],
            "image/png": "[encoded data removed]"
          },
          "metadata": {}
        }
      ]
    },
    {
      "cell_type": "markdown",
      "source": [
        "**Linear regression using sklearn**\n",
        "\n",
        "This was how we did it last semester in Enzyme Technology"
      ],
      "metadata": {
        "id": "3_d95sFKhBAS"
      }
    },
    {
      "cell_type": "code",
      "source": [
        "from sklearn.linear_model import LinearRegression\n",
        "x = mydataframe[\"Age\"]\n",
        "x = x.values.reshape(-1,1) #row to column\n",
        "y = mydataframe[\"Distance\"]\n",
        "\n",
        "m = LinearRegression()\n",
        "m.fit (x,y)\n",
        "yfit = m.coef_*x + m.intercept_ # y = mx + b    intercept_ is intercept on y axis, coef_ is slope\n",
        "\n",
        "#Print coefficients\n",
        "print(\"Slope: \\n\", m.coef_)\n",
        "print(\"Intercept: \\n\", m.intercept_)"
      ],
      "metadata": {
        "colab": {
          "base_uri": "https://localhost:8080/"
        },
        "id": "MtOfpIYLhB7r",
        "outputId": "d6081600-a270-470f-aa22-8d391ad5138b"
      },
      "execution_count": null,
      "outputs": [
        {
          "output_type": "stream",
          "name": "stdout",
          "text": [
            "Slope: \n",
            " [-3.00683537]\n",
            "Intercept: \n",
            " 576.6819371727748\n"
          ]
        }
      ]
    },
    {
      "cell_type": "markdown",
      "source": [
        "**Linear regression using statsmodels.api ordinary least squares function**\n",
        "\n",
        "Here is some documentation that might be useful:\n",
        "\n",
        "https://www.statsmodels.org/dev/generated/statsmodels.regression.linear_model.OLS.html\n",
        "\n",
        "Interpretting OLS output - not the most detailed description, but if you are completely lost then start here:\n",
        "https://medium.com/swlh/interpreting-linear-regression-through-statsmodels-summary-4796d359035a"
      ],
      "metadata": {
        "id": "ZWziER6bgzHG"
      }
    },
    {
      "cell_type": "code",
      "source": [
        "#Using Statsmodels ordinary least squares (ols) function\n",
        "import statsmodels.api as sm\n",
        "x = mydataframe[\"Age\"]\n",
        "y = mydataframe[\"Distance\"]\n",
        "x = sm.add_constant(x)\n",
        "\n",
        "my_model = sm.OLS(y,x).fit()  #\"my_model\" is just the name you give to your results\n",
        "print(my_model.summary())\n",
        "\n",
        "#plotting values\n",
        "fig,ax = plt.subplots()\n",
        "fig = sm.graphics.plot_fit(my_model,1,ax=ax, vlines = False, ls = \"-\", marker = \"None\")"
      ],
      "metadata": {
        "colab": {
          "base_uri": "https://localhost:8080/",
          "height": 970
        },
        "id": "2NzGKuOzgysi",
        "outputId": "de888291-fedd-4386-b984-a10f7962cb27"
      },
      "execution_count": null,
      "outputs": [
        {
          "output_type": "stream",
          "name": "stdout",
          "text": [
            "                            OLS Regression Results                            \n",
            "==============================================================================\n",
            "Dep. Variable:               Distance   R-squared:                       0.642\n",
            "Model:                            OLS   Adj. R-squared:                  0.629\n",
            "Method:                 Least Squares   F-statistic:                     50.21\n",
            "Date:                Wed, 10 Jan 2024   Prob (F-statistic):           1.04e-07\n",
            "Time:                        13:19:37   Log-Likelihood:                -158.75\n",
            "No. Observations:                  30   AIC:                             321.5\n",
            "Df Residuals:                      28   BIC:                             324.3\n",
            "Df Model:                           1                                         \n",
            "Covariance Type:            nonrobust                                         \n",
            "==============================================================================\n",
            "                 coef    std err          t      P>|t|      [0.025      0.975]\n",
            "------------------------------------------------------------------------------\n",
            "const        576.6819     23.471     24.570      0.000     528.604     624.760\n",
            "Age           -3.0068      0.424     -7.086      0.000      -3.876      -2.138\n",
            "==============================================================================\n",
            "Omnibus:                        0.684   Durbin-Watson:                   2.149\n",
            "Prob(Omnibus):                  0.710   Jarque-Bera (JB):                0.710\n",
            "Skew:                           0.125   Prob(JB):                        0.701\n",
            "Kurtosis:                       2.289   Cond. No.                         143.\n",
            "==============================================================================\n",
            "\n",
            "Notes:\n",
            "[1] Standard Errors assume that the covariance matrix of the errors is correctly specified.\n"
          ]
        },
        {
          "output_type": "stream",
          "name": "stderr",
          "text": [
            "/usr/local/lib/python3.10/dist-packages/statsmodels/graphics/regressionplots.py:157: UserWarning: marker is redundantly defined by the 'marker' keyword argument and the fmt string \"D\" (-> marker='D'). The keyword argument will take precedence.\n",
            "  ax.plot(x1, results.fittedvalues[x1_argsort], 'D', color='r',\n"
          ]
        },
        {
          "output_type": "display_data",
          "data": {
            "text/plain": [
              "<Figure size 640x480 with 1 Axes>"
            ],
            "image/png": "[encoded data removed]"
          },
          "metadata": {}
        }
      ]
    },
    {
      "cell_type": "markdown",
      "source": [
        "**Calling results from statsmodels.api ols**\n",
        "\n",
        "The full list is here:\n",
        "https://www.statsmodels.org/dev/generated/statsmodels.regression.linear_model.OLSResults.html#statsmodels.regression.linear_model.OLSResults\n",
        "\n",
        "\n",
        "Here are some useful ones - look them up and make note of what they do:\n",
        "\n",
        "bse\n",
        "\n",
        "fvalue\n",
        "\n",
        "fittedvalues\n",
        "\n",
        "mse_resid\n",
        "\n",
        "mse_total\n",
        "\n",
        "params\n",
        "\n",
        "nobs\n",
        "\n",
        "resid\n",
        "\n",
        "resid_pearson\n",
        "\n",
        "rsquared\n",
        "\n",
        "ssr\n",
        "\n",
        "dfresid #not in the list, but useful - can you guess what it is?"
      ],
      "metadata": {
        "id": "WeQHWIZdgn-h"
      }
    },
    {
      "cell_type": "code",
      "source": [
        "my_model.params #you can call any of the above results like this"
      ],
      "metadata": {
        "colab": {
          "base_uri": "https://localhost:8080/"
        },
        "id": "7UTm86dagnsm",
        "outputId": "8dc2cddb-e309-47b9-ceb6-4c12fafe112d"
      },
      "execution_count": null,
      "outputs": [
        {
          "output_type": "execute_result",
          "data": {
            "text/plain": [
              "const    576.681937\n",
              "Age       -3.006835\n",
              "dtype: float64"
            ]
          },
          "metadata": {},
          "execution_count": 7
        }
      ]
    }
  ]
}